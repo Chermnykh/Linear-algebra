{
 "cells": [
  {
   "cell_type": "markdown",
   "id": "11418af7",
   "metadata": {},
   "source": [
    "# Линейная алгебра\n",
    "\n",
    "## Урок 2. Матрицы и матричные операции"
   ]
  },
  {
   "cell_type": "markdown",
   "id": "631220ad",
   "metadata": {},
   "source": [
    "### Часть 1"
   ]
  },
  {
   "cell_type": "markdown",
   "id": "163ebf57",
   "metadata": {},
   "source": [
    "__1.__ Установите, какие произведения матриц $AB$ и $BA$ определены, и найдите размерности полученных матриц:\n",
    "\n",
    "   а) $A$ — матрица $4\\times 2$, $B$ — матрица $4\\times 2$;\n",
    "    \n",
    "   б) $A$ — матрица $2\\times 5$, $B$ — матрица $5\\times 3$;\n",
    "    \n",
    "   в) $A$ — матрица $8\\times 3$, $B$ — матрица $3\\times 8$;\n",
    "    \n",
    "   г) $A$ — квадратная матрица $4\\times 4$, $B$ — квадратная матрица $4\\times 4$."
   ]
  },
  {
   "cell_type": "markdown",
   "id": "962301db",
   "metadata": {},
   "source": [
    "а) Матрица $AB$ не определена, так как число столбцов матрицы $A$ $\\neq$ числу строк матрицы $B$: $2\\neq4$       \n",
    "Матрица $BA$ не определена, так как число столбцов матрицы $B$ $\\neq$ числу строк матрицы $A$: $4\\neq2$\n",
    "\n",
    "б) Матрица $AB$ определена, так как число столбцов матрицы $A$ = числу строк матрицы $B$, размер матрицы $AB=2\\times3$       \n",
    "Матрица $BA$ не определена, так как число столбцов матрицы $B$ $\\neq$ числу строк матрицы $A$: $3\\neq2$\n",
    "\n",
    "в) Матрица $AB$ определена, так как число столбцов матрицы $A$ = числу строк матрицы $B$, размер матрицы $AB=8\\times8$       \n",
    "Матрица $BA$ определена, так как число столбцов матрицы $B$ = числу строк матрицы $A$, размер матрицы $AB=3\\times3$\n",
    "\n",
    "г) Матрицы $AB$ и $BA$ определены, размер матриц $4\\times4$   "
   ]
  },
  {
   "cell_type": "markdown",
   "id": "230f2e37",
   "metadata": {},
   "source": [
    "__2.__ Найдите сумму и произведение матриц $A=\\begin{pmatrix}\n",
    "1 & -2\\\\ \n",
    "3 & 0\n",
    "\\end{pmatrix}$ и $B=\\begin{pmatrix}\n",
    "4 & -1\\\\ \n",
    "0 & 5\n",
    "\\end{pmatrix}.$"
   ]
  },
  {
   "cell_type": "markdown",
   "id": "0a4ec833",
   "metadata": {},
   "source": [
    "$A+B=\\begin{pmatrix}\n",
    "1 & -2\\\\ \n",
    "3 & 0\n",
    "\\end{pmatrix} + \\begin{pmatrix}\n",
    "4 & -1\\\\ \n",
    "0 & 5\n",
    "\\end{pmatrix} = \\begin{pmatrix}\n",
    "1+4 & -2+(-1)\\\\ \n",
    "3+0 & 0+5\n",
    "\\end{pmatrix} = \\begin{pmatrix}\n",
    "5 & -3\\\\ \n",
    "3 & 5\n",
    "\\end{pmatrix}$"
   ]
  },
  {
   "cell_type": "markdown",
   "id": "cb117de1",
   "metadata": {},
   "source": [
    "Проверим с numpy"
   ]
  },
  {
   "cell_type": "code",
   "execution_count": 1,
   "id": "658977d0",
   "metadata": {},
   "outputs": [
    {
     "name": "stdout",
     "output_type": "stream",
     "text": [
      "Матрица A\n",
      "[[ 1 -2]\n",
      " [ 3  0]]\n",
      "\n",
      "Матрица B\n",
      "[[ 4 -1]\n",
      " [ 0  5]]\n",
      "\n",
      "Матрица A + B\n",
      "[[ 5 -3]\n",
      " [ 3  5]]\n"
     ]
    }
   ],
   "source": [
    "import numpy as np\n",
    "\n",
    "a = np.array([[1, -2], [3, 0]])\n",
    "b = np.array([[4, -1], [0, 5]])\n",
    "\n",
    "print(f'Матрица A\\n{a}\\n')\n",
    "print(f'Матрица B\\n{b}\\n')\n",
    "print(f'Матрица A + B\\n{a + b}')"
   ]
  },
  {
   "cell_type": "markdown",
   "id": "5f7edb0f",
   "metadata": {},
   "source": [
    "$A\\cdot B=\\begin{pmatrix}\n",
    "1 & -2\\\\ \n",
    "3 & 0\n",
    "\\end{pmatrix} \\cdot \\begin{pmatrix}\n",
    "4 & -1\\\\ \n",
    "0 & 5\n",
    "\\end{pmatrix} = \\begin{pmatrix}\n",
    "1\\cdot 4+(-2)\\cdot 0 & 1\\cdot (-1)+(-2)\\cdot 5\\\\ \n",
    "3\\cdot 4+0\\cdot 0 & 3\\cdot (-1)+0\\cdot 5\n",
    "\\end{pmatrix} = \\begin{pmatrix}\n",
    "4 & -11\\\\ \n",
    "12 & -3\n",
    "\\end{pmatrix}$"
   ]
  },
  {
   "cell_type": "markdown",
   "id": "0b75db9c",
   "metadata": {},
   "source": [
    "$B\\cdot A=\\begin{pmatrix}\n",
    "4 & -1\\\\ \n",
    "0 & 5\n",
    "\\end{pmatrix} \\cdot \\begin{pmatrix}\n",
    "1 & -2\\\\ \n",
    "3 & 0\n",
    "\\end{pmatrix} = \\begin{pmatrix}\n",
    "4\\cdot 1+(-1)\\cdot 3 & 4\\cdot (-2)+(-1)\\cdot 0\\\\ \n",
    "0\\cdot 1+5\\cdot 3 & 0\\cdot (-2)+5\\cdot 0\n",
    "\\end{pmatrix} = \\begin{pmatrix}\n",
    "1 & -8\\\\ \n",
    "15 & 0\n",
    "\\end{pmatrix}$"
   ]
  },
  {
   "cell_type": "code",
   "execution_count": 2,
   "id": "533505c2",
   "metadata": {},
   "outputs": [
    {
     "name": "stdout",
     "output_type": "stream",
     "text": [
      "Матрица AB\n",
      "[[  4 -11]\n",
      " [ 12  -3]]\n",
      "Матрица BA\n",
      "[[ 1 -8]\n",
      " [15  0]]\n"
     ]
    }
   ],
   "source": [
    "print(f'Матрица AB\\n{np.dot(a, b)}')\n",
    "print(f'Матрица BA\\n{np.dot(b, a)}')"
   ]
  },
  {
   "cell_type": "markdown",
   "id": "4fb1e1bd",
   "metadata": {},
   "source": [
    "__3.__ Из закономерностей сложения и умножения матриц на число можно сделать вывод, что матрицы одного размера образуют линейное пространство. Вычислите линейную комбинацию $3A-2B+4C$ для матриц $A=\\begin{pmatrix}\n",
    "1 & 7\\\\ \n",
    "3 & -6\n",
    "\\end{pmatrix}$, $B=\\begin{pmatrix}\n",
    "0 & 5\\\\ \n",
    "2 & -1\n",
    "\\end{pmatrix}$, $C=\\begin{pmatrix}\n",
    "2 & -4\\\\ \n",
    "1 & 1\n",
    "\\end{pmatrix}.$"
   ]
  },
  {
   "cell_type": "markdown",
   "id": "5ca0b0aa",
   "metadata": {},
   "source": [
    "$3\\cdot \\begin{pmatrix}\n",
    "1 & 7\\\\ \n",
    "3 & -6\n",
    "\\end{pmatrix}-2\\cdot \\begin{pmatrix}\n",
    "0 & 5\\\\ \n",
    "2 & -1\n",
    "\\end{pmatrix}+4\\cdot \\begin{pmatrix}\n",
    "2 & -4\\\\ \n",
    "1 & 1\n",
    "\\end{pmatrix} = \\begin{pmatrix}\n",
    "3 & 21\\\\ \n",
    "9 & -18\n",
    "\\end{pmatrix} - \\begin{pmatrix}\n",
    "0 & 10\\\\ \n",
    "4 & -2\n",
    "\\end{pmatrix} + \\begin{pmatrix}\n",
    "8 & -16\\\\ \n",
    "4 & 4\n",
    "\\end{pmatrix} = \\begin{pmatrix}\n",
    "11 & -5\\\\ \n",
    "9 & -12\n",
    "\\end{pmatrix}$"
   ]
  },
  {
   "cell_type": "code",
   "execution_count": 3,
   "id": "89bc8210",
   "metadata": {},
   "outputs": [
    {
     "name": "stdout",
     "output_type": "stream",
     "text": [
      "Матрица A\n",
      "[[ 1  7]\n",
      " [ 3 -6]]\n",
      "\n",
      "Матрица B\n",
      "[[ 0  5]\n",
      " [ 2 -1]]\n",
      "\n",
      "Матрица C\n",
      "[[ 2 -4]\n",
      " [ 1  1]]\n",
      "\n",
      "Матрица 3A - 2B + 4C\n",
      "[[ 11  -5]\n",
      " [  9 -12]]\n"
     ]
    }
   ],
   "source": [
    "a = np.array([[1, 7], [3, -6]])\n",
    "b = np.array([[0, 5], [2, -1]])\n",
    "c = np.array([[2, -4], [1, 1]])\n",
    "\n",
    "print(f'Матрица A\\n{a}\\n')\n",
    "print(f'Матрица B\\n{b}\\n')\n",
    "print(f'Матрица C\\n{c}\\n')\n",
    "print(f'Матрица 3A - 2B + 4C\\n{3*a - 2*b + 4*c}')"
   ]
  },
  {
   "cell_type": "markdown",
   "id": "a0d335d9",
   "metadata": {},
   "source": [
    "__4.__ Дана матрица $A=\\begin{pmatrix}\n",
    "4 & 1\\\\ \n",
    "5 & -2\\\\ \n",
    "2 & 3\n",
    "\\end{pmatrix}$.\n",
    "Вычислите $AA^{T}$ и $A^{T}A$."
   ]
  },
  {
   "cell_type": "markdown",
   "id": "d15f08ff",
   "metadata": {},
   "source": [
    "$A^{T}=\\begin{pmatrix}\n",
    "4 & 5 & 2\\\\\n",
    "1 & -2 & 3\n",
    "\\end{pmatrix}$"
   ]
  },
  {
   "cell_type": "markdown",
   "id": "a74edd1e",
   "metadata": {},
   "source": [
    "$AA^{T}=\\begin{pmatrix}\n",
    "4 & 1\\\\ \n",
    "5 & -2\\\\ \n",
    "2 & 3\n",
    "\\end{pmatrix} \\cdot \\begin{pmatrix}\n",
    "4 & 5 & 2\\\\\n",
    "1 & -2 & 3\n",
    "\\end{pmatrix} = \\begin{pmatrix}\n",
    "4\\cdot 4+1\\cdot 1 & 4\\cdot 5+1\\cdot(-2) & 4\\cdot 2+1\\cdot3\\\\\n",
    "5\\cdot 4+(-2)\\cdot 1 & 5\\cdot 5+(-2)\\cdot (-2) & 5\\cdot 2+(-2)\\cdot 3\\\\\n",
    "2\\cdot 4+3\\cdot 1 & 2\\cdot 5+3\\cdot (-2) & 2\\cdot 2+3\\cdot 3\\\\\n",
    "\\end{pmatrix} = \\begin{pmatrix}\n",
    "17 & 18 & 11\\\\\n",
    "18 & 29 & 4\\\\\n",
    "11 & 4 & 13\\\\\n",
    "\\end{pmatrix}$"
   ]
  },
  {
   "cell_type": "markdown",
   "id": "82183f26",
   "metadata": {},
   "source": [
    "$A^{T}A = \\begin{pmatrix}\n",
    "4 & 5 & 2\\\\\n",
    "1 & -2 & 3\n",
    "\\end{pmatrix} \\cdot \\begin{pmatrix}\n",
    "4 & 1\\\\ \n",
    "5 & -2\\\\ \n",
    "2 & 3\n",
    "\\end{pmatrix} = \\begin{pmatrix}\n",
    "4\\cdot 4+5\\cdot 5+2\\cdot 2 & 4\\cdot 1+5\\cdot (-2)+2\\cdot 3 \\\\\n",
    "1\\cdot 4+(-2)\\cdot 5+3\\cdot 2 & 1\\cdot 1+(-2)\\cdot (-2)+3\\cdot 3\n",
    "\\end{pmatrix} = \\begin{pmatrix}\n",
    "45 & 0 \\\\\n",
    "0 & 14\n",
    "\\end{pmatrix}$"
   ]
  },
  {
   "cell_type": "code",
   "execution_count": 4,
   "id": "3746447b",
   "metadata": {},
   "outputs": [
    {
     "name": "stdout",
     "output_type": "stream",
     "text": [
      "[[17 18 11]\n",
      " [18 29  4]\n",
      " [11  4 13]]\n",
      "[[45  0]\n",
      " [ 0 14]]\n"
     ]
    }
   ],
   "source": [
    "a = np.array([[4, 1], [5, -2], [2, 3]])\n",
    "\n",
    "print(np.dot(a, a.T)) \n",
    "print(np.dot(a.T, a))"
   ]
  },
  {
   "cell_type": "markdown",
   "id": "0b084bad",
   "metadata": {},
   "source": [
    "__5*.__ Напишите на Python функцию для перемножения двух произвольных матриц, не используя NumPy."
   ]
  },
  {
   "cell_type": "code",
   "execution_count": 5,
   "id": "ade9dd1b",
   "metadata": {},
   "outputs": [],
   "source": [
    "def multiplicate_matrix(left,right):\n",
    "    try: \n",
    "        left.shape[1]==right.shape[0]\n",
    "        result=[]\n",
    "        temp=[]\n",
    "        s=0\n",
    "        for i in range(left.shape[0]):\n",
    "            for j in range(right.shape[1]):\n",
    "                for k in range(right.shape[0]):\n",
    "                    s+=left[i][k]*right[k][j]\n",
    "                temp.append(s)\n",
    "                s=0\n",
    "            result.append(temp)\n",
    "            temp=[]\n",
    "        return np.array(result)\n",
    "    except Exception:\n",
    "        print('Произведение матриц таких размеров не определено!')"
   ]
  },
  {
   "cell_type": "code",
   "execution_count": 6,
   "id": "5157006b",
   "metadata": {},
   "outputs": [],
   "source": [
    "A=np.array([[7, -4],[0, 0],[5, 2],[-3, 1]])\n",
    "B=np.array([[1, 2, 3, 4],[5, 6, 7, 8]])\n",
    "C=np.array([[3, 5, 7], [-2, 1, 0], [-2, 3, 5]])"
   ]
  },
  {
   "cell_type": "code",
   "execution_count": 7,
   "id": "5ec540c0",
   "metadata": {},
   "outputs": [
    {
     "data": {
      "text/plain": [
       "array([[-13, -10,  -7,  -4],\n",
       "       [  0,   0,   0,   0],\n",
       "       [ 15,  22,  29,  36],\n",
       "       [  2,   0,  -2,  -4]])"
      ]
     },
     "execution_count": 7,
     "metadata": {},
     "output_type": "execute_result"
    }
   ],
   "source": [
    "A.dot(B)"
   ]
  },
  {
   "cell_type": "code",
   "execution_count": 8,
   "id": "9fa0788f",
   "metadata": {},
   "outputs": [
    {
     "data": {
      "text/plain": [
       "array([[-13, -10,  -7,  -4],\n",
       "       [  0,   0,   0,   0],\n",
       "       [ 15,  22,  29,  36],\n",
       "       [  2,   0,  -2,  -4]])"
      ]
     },
     "execution_count": 8,
     "metadata": {},
     "output_type": "execute_result"
    }
   ],
   "source": [
    "multiplicate_matrix(A,B)"
   ]
  },
  {
   "cell_type": "code",
   "execution_count": 9,
   "id": "864fd1c8",
   "metadata": {},
   "outputs": [
    {
     "data": {
      "text/plain": [
       "array([[10,  6],\n",
       "       [46,  2]])"
      ]
     },
     "execution_count": 9,
     "metadata": {},
     "output_type": "execute_result"
    }
   ],
   "source": [
    "B.dot(A)"
   ]
  },
  {
   "cell_type": "code",
   "execution_count": 10,
   "id": "2d4dd520",
   "metadata": {},
   "outputs": [
    {
     "data": {
      "text/plain": [
       "array([[10,  6],\n",
       "       [46,  2]])"
      ]
     },
     "execution_count": 10,
     "metadata": {},
     "output_type": "execute_result"
    }
   ],
   "source": [
    "multiplicate_matrix(B,A)"
   ]
  },
  {
   "cell_type": "code",
   "execution_count": 11,
   "id": "b7f1c3ea",
   "metadata": {},
   "outputs": [
    {
     "ename": "ValueError",
     "evalue": "shapes (4,2) and (3,3) not aligned: 2 (dim 1) != 3 (dim 0)",
     "output_type": "error",
     "traceback": [
      "\u001b[1;31m---------------------------------------------------------------------------\u001b[0m",
      "\u001b[1;31mValueError\u001b[0m                                Traceback (most recent call last)",
      "Input \u001b[1;32mIn [11]\u001b[0m, in \u001b[0;36m<cell line: 1>\u001b[1;34m()\u001b[0m\n\u001b[1;32m----> 1\u001b[0m \u001b[43mA\u001b[49m\u001b[38;5;241;43m.\u001b[39;49m\u001b[43mdot\u001b[49m\u001b[43m(\u001b[49m\u001b[43mC\u001b[49m\u001b[43m)\u001b[49m\n",
      "\u001b[1;31mValueError\u001b[0m: shapes (4,2) and (3,3) not aligned: 2 (dim 1) != 3 (dim 0)"
     ]
    }
   ],
   "source": [
    "A.dot(C)"
   ]
  },
  {
   "cell_type": "code",
   "execution_count": 12,
   "id": "5d3b8ab1",
   "metadata": {},
   "outputs": [
    {
     "name": "stdout",
     "output_type": "stream",
     "text": [
      "Произведение матриц таких размеров не определено!\n"
     ]
    }
   ],
   "source": [
    "multiplicate_matrix(A,C)"
   ]
  },
  {
   "cell_type": "markdown",
   "id": "61430911",
   "metadata": {},
   "source": [
    "### Часть 2"
   ]
  },
  {
   "cell_type": "markdown",
   "id": "297ccebe",
   "metadata": {},
   "source": [
    "__1.__ Вычислите определитель:\n",
    "\n",
    "   a)\n",
    "\n",
    "$$\\begin{vmatrix}\n",
    "sinx & -cosx\\\\ \n",
    "cosx & sinx\n",
    "\\end{vmatrix};$$\n",
    "\n",
    "   б)\n",
    "    \n",
    "$$\\begin{vmatrix}\n",
    "4 & 2 & 3\\\\ \n",
    "0 & 5 & 1\\\\ \n",
    "0 & 0 & 9\n",
    "\\end{vmatrix};$$\n",
    "    \n",
    "   в)\n",
    "\n",
    "$$\\begin{vmatrix}\n",
    "1 & 2 & 3\\\\ \n",
    "4 & 5 & 6\\\\ \n",
    "7 & 8 & 9\n",
    "\\end{vmatrix}.$$"
   ]
  },
  {
   "cell_type": "markdown",
   "id": "402913c7",
   "metadata": {},
   "source": [
    "а) $det=sinx \\cdot sinx - cosx \\cdot (-cosx)=sin^2x+cos^2x=1$          \n",
    "б) Так как матрица треугольная, то **определитель равен произведению элементов, стоящих на ее главной диагонали**: $4 \\cdot 5 \\cdot 9=180$       \n",
    "в) Разложим по элементам первой строки:               \n",
    "$\\begin{vmatrix}\n",
    "1 & 2 & 3\\\\ \n",
    "4 & 5 & 6\\\\ \n",
    "7 & 8 & 9\n",
    "\\end{vmatrix} = 1 \\cdot \\begin{vmatrix}\n",
    "5 & 6\\\\ \n",
    "8 & 9 \n",
    "\\end{vmatrix} - 2 \\cdot \\begin{vmatrix}\n",
    "4 & 6\\\\ \n",
    "7 & 9 \n",
    "\\end{vmatrix} + 3 \\cdot \\begin{vmatrix}\n",
    "4 & 5\\\\ \n",
    "7 & 8 \n",
    "\\end{vmatrix} = (5 \\cdot 9-6\\cdot 8)-2\\cdot(4\\cdot 9-6\\cdot 7)+3\\cdot(4\\cdot 8-5\\cdot 7)=(45-48)-2\\cdot(36-42)+3\\cdot(32-35) = -3+12-9=0$"
   ]
  },
  {
   "cell_type": "code",
   "execution_count": 13,
   "id": "be027c41",
   "metadata": {},
   "outputs": [
    {
     "name": "stdout",
     "output_type": "stream",
     "text": [
      "0 1\n",
      "2 1\n",
      "4 1\n",
      "6 1\n",
      "8 1\n",
      "10 1\n"
     ]
    }
   ],
   "source": [
    "for x in range(0,11,2):\n",
    "    A=np.array([[np.sin(x), -np.cos(x)],[np.cos(x), np.sin(x)]])\n",
    "    print(x, round(np.linalg.det(A)))"
   ]
  },
  {
   "cell_type": "code",
   "execution_count": 14,
   "id": "ceb6265c",
   "metadata": {},
   "outputs": [
    {
     "data": {
      "text/plain": [
       "180.0"
      ]
     },
     "execution_count": 14,
     "metadata": {},
     "output_type": "execute_result"
    }
   ],
   "source": [
    "B=np.array([[4,2,3], [0,5,1],[0,0,9]])  \n",
    "np.linalg.det(B)"
   ]
  },
  {
   "cell_type": "code",
   "execution_count": 15,
   "id": "19e92abf",
   "metadata": {},
   "outputs": [
    {
     "data": {
      "text/plain": [
       "0.0"
      ]
     },
     "execution_count": 15,
     "metadata": {},
     "output_type": "execute_result"
    }
   ],
   "source": [
    "C=np.array([[1,2,3], [4,5,6],[7,8,9]])  \n",
    "np.linalg.det(C)"
   ]
  },
  {
   "cell_type": "markdown",
   "id": "4757f2d7",
   "metadata": {},
   "source": [
    "__2.__ Определитель матрицы $A$ равен $4$. Найдите:\n",
    "\n",
    "   а) $det(A^{2})$;\n",
    "    \n",
    "   б) $det(A^{T})$;\n",
    "    \n",
    "   в) $det(2A)$."
   ]
  },
  {
   "cell_type": "markdown",
   "id": "9757b725",
   "metadata": {},
   "source": [
    "а) $det(A^{2})=16$, так как **для двух квадратных матриц одинакового размера:** $det(AB)=detA\\cdot detB$          \n",
    "б) $det(A^{T})=4$, так как **Определитель транспонированной матрицы равен определителю исходной:** $detA^{T}=detA$  \n",
    "в) $det(2A)=2^{n}\\cdot det(A)=2^{n}\\cdot 4$, где $n$ - порядок матрицы $A$, так как **умножение строки или столбца матрицы на число  𝜆  приведет к умножению определителя матрицы на то же число**"
   ]
  },
  {
   "cell_type": "markdown",
   "id": "85f71389",
   "metadata": {},
   "source": [
    "__3.__  Докажите, что матрица:\n",
    "\n",
    "$$\\begin{pmatrix}\n",
    "-2 & 7 & -3\\\\ \n",
    "4 & -14 & 6\\\\ \n",
    "-3 & 7 & 13\n",
    "\\end{pmatrix}$$\n",
    "   \n",
    "вырожденная."
   ]
  },
  {
   "cell_type": "markdown",
   "id": "282225b5",
   "metadata": {},
   "source": [
    "Для этого надо доказать, что определитель матрицы равен 0.\n",
    "\n",
    "В данной матрице $2 строка = -2 \\cdot (1 строка)$, то есть $\\begin{pmatrix}4 & -14 & 6\\end{pmatrix}=-2 \\cdot \\begin{pmatrix}-2 & 7 & -3\\end{pmatrix}$, то есть они линейно зависимы, а **если две строки (столбца) матрицы линейно зависимы, то определитель этой матрицы равен нулю**, значит матрицы вырожденная"
   ]
  },
  {
   "cell_type": "markdown",
   "id": "5701001d",
   "metadata": {},
   "source": [
    "__4.__ Найдите ранг матрицы:\n",
    "\n",
    "   а) $\\begin{pmatrix}\n",
    "1 & 2 & 3\\\\ \n",
    "1 & 1 & 1\\\\ \n",
    "2 & 3 & 4\n",
    "\\end{pmatrix};$\n",
    "\n",
    "   б) $\\begin{pmatrix}\n",
    "0 & 0 & 2 & 1\\\\ \n",
    "0 & 0 & 2 & 2\\\\ \n",
    "0 & 0 & 4 & 3\\\\ \n",
    "2 & 3 & 5 & 6\n",
    "\\end{pmatrix}.$"
   ]
  },
  {
   "cell_type": "markdown",
   "id": "669aa25b",
   "metadata": {},
   "source": [
    "а) $3 строка = 1 строка + 2 строка$, значит 3 строку можно выкинуть          \n",
    "$$\\begin{pmatrix}\n",
    "1 & 2 & 3\\\\ \n",
    "1 & 1 & 1\n",
    "\\end{pmatrix}$$                  \n",
    "\n",
    "Далее вычтем 2 строку из 1 и поменяем их местами                \n",
    "$$\\begin{pmatrix}\n",
    "1 & 1 & 1\\\\ \n",
    "0 & 1 & 2\n",
    "\\end{pmatrix}$$ \n",
    "\n",
    "Получаем 2 ненулевых строка, значит **ранг матрицы 2**"
   ]
  },
  {
   "cell_type": "markdown",
   "id": "eff5e549",
   "metadata": {},
   "source": [
    "б) $3 строка = 1 строка + 2 строка$, значит 3 строку можно выкинуть, так же поменяем первую и последнюю строки местами     \n",
    "$$\\begin{pmatrix}\n",
    "2 & 3 & 5 & 6\\\\ \n",
    "0 & 0 & 2 & 2\\\\ \n",
    "0 & 0 & 2 & 1\n",
    "\\end{pmatrix}$$\n",
    "\n",
    "Далее вычтем из 3 строки 2\n",
    "$$\\begin{pmatrix}\n",
    "2 & 3 & 5 & 6\\\\ \n",
    "0 & 0 & 2 & 2\\\\ \n",
    "0 & 0 & 0 & -1\n",
    "\\end{pmatrix}$$\n",
    "\n",
    "Получаем 3 ненулевых строки, значит **ранг матрицы 3**"
   ]
  }
 ],
 "metadata": {
  "kernelspec": {
   "display_name": "Python 3 (ipykernel)",
   "language": "python",
   "name": "python3"
  },
  "language_info": {
   "codemirror_mode": {
    "name": "ipython",
    "version": 3
   },
   "file_extension": ".py",
   "mimetype": "text/x-python",
   "name": "python",
   "nbconvert_exporter": "python",
   "pygments_lexer": "ipython3",
   "version": "3.10.2"
  }
 },
 "nbformat": 4,
 "nbformat_minor": 5
}
