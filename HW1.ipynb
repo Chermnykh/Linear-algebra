{
 "cells": [
  {
   "cell_type": "markdown",
   "id": "d4b57fa7",
   "metadata": {},
   "source": [
    "# Линейная алгебра\n",
    "\n",
    "## Урок 1. Линейное пространство"
   ]
  },
  {
   "cell_type": "markdown",
   "id": "2c7c8a1b",
   "metadata": {},
   "source": [
    "### Часть 1"
   ]
  },
  {
   "cell_type": "markdown",
   "id": "32d0d5de",
   "metadata": {},
   "source": [
    "__1.__ Исследовать на линейную зависимость:\n",
    "\n",
    "$f_{1}(x)=e^{x}, f_{2}(x)=1, f_{3}(x)=x+1, f_{4}(x)=x-e^{x}$.\n"
   ]
  },
  {
   "cell_type": "markdown",
   "id": "e8607c7b",
   "metadata": {},
   "source": [
    "Заметим, что $f_{4}(x) = (x+1)-e^{x}-1 = f_{3}(x)-f_{1}(x)-f_{2}(x)$, поскольку мы можем выразить один вектор, через линейную комбинацию остальных, $\\Rightarrow$ данные векторы **линейно зависимы**."
   ]
  },
  {
   "cell_type": "markdown",
   "id": "063751ee",
   "metadata": {},
   "source": [
    "__2.__ Исследовать на линейную зависимость:  \n",
    "\n",
    "$f_{1}(x)=2, f_{2}(x)=x, f_{3}(x)=x^{2}, f_{4}(x)=(x+1)^{2}$"
   ]
  },
  {
   "cell_type": "markdown",
   "id": "0a1648c0",
   "metadata": {},
   "source": [
    "Заметим, что $f_{4}(x)=(x+1)^2=x^2+2\\cdot x+1=f_3(x)+f_{1}(x)\\cdot f_{2}(x)+0.5\\cdot f_{1}(x)$, поскольку мы можем выразить один вектор, через линейную комбинацию остальных, $\\Rightarrow$ данные векторы **линейно зависимы**."
   ]
  },
  {
   "cell_type": "markdown",
   "id": "a3e56ba6",
   "metadata": {},
   "source": [
    "__3.__ Найти координаты вектора $x = (2, 3, 5)\\in \\mathbb{R}^{3}$ в базисе $b_{1}=(0, 0, 10)$, $b_{2}=(2, 0, 0)$, $b_{3}=(0, 1, 0)$."
   ]
  },
  {
   "cell_type": "markdown",
   "id": "39f68985",
   "metadata": {},
   "source": [
    "$x=(2, 3, 5)=(2,0,0)+(0, 3, 0)+(0, 0, 5)=1\\cdot(2, 0, 0)+3\\cdot(0, 1, 0)+0.5\\cdot(0, 0, 10)=b_{2}+3b_{3}+0.5b_{1}=0.5b_{1}+b_{2}+3b_{3}$, то есть координаты $x$ в базисе в базисе $b_{1}=(0, 0, 10)$, $b_{2}=(2, 0, 0)$, $b_{3}=(0, 1, 0)$: $(0.5, 1, 3)$"
   ]
  },
  {
   "cell_type": "markdown",
   "id": "4aa716e9",
   "metadata": {},
   "source": [
    "__4.__ Найти координаты вектора $3x^{2}-2x+2\\in\\mathbb{R}^{3}[x]$:  \n",
    "а) в базисе $1$, $x$, $x^{2}$;  \n",
    "б) в базисе $x^{2}$, $x-1$, $1$."
   ]
  },
  {
   "cell_type": "markdown",
   "id": "afe6e43d",
   "metadata": {},
   "source": [
    "a) Разложим вектор $3x^{2}-2x+2$ по базису $1$, $x$, $x^{2}$:  \n",
    "$3x^{2}-2x+2=a\\cdot 1+b\\cdot x+c\\cdot x^2$, где $a$, $b$, и $c$ - в заданном базисе.  \n",
    "$3x^{2}-2x+2-a\\cdot 1-b\\cdot x-c\\cdot x^2=0$  \n",
    "$(3-c)\\cdot x^{2}-(2+b)\\cdot x+(2-a)=0$  \n",
    "Поскольку базис пространства - система **линейно независимых** векторов, то получим следующую систему уравнений:  \n",
    "$\\begin{cases} 3-c=0\\\\2+b=0\\\\2-a=0\\end{cases}$  \n",
    "Соответственно:  \n",
    "$a=2\\\\b=-2\\\\c=3$  \n",
    "Проверим:  \n",
    "$2\\cdot 1+(-2)\\cdot x+3\\cdot x^2=3x^{2}-2x+2$ получили наш исходный вектор,  \n",
    "$\\Rightarrow$ Координаты вектора $3x^{2}-2x+2$ в базисе $1$, $x$, $x^{2}$ : $(2,-2,3)$  "
   ]
  },
  {
   "cell_type": "markdown",
   "id": "5881364c",
   "metadata": {},
   "source": [
    "б) Разложим вектор $3x^{2}-2x+2$ по базису $x^{2}$, $x-1$, $1$:  \n",
    "$3x^{2}-2x+2=a\\cdot x^{2}+b\\cdot (x-1)+c\\cdot 1$  \n",
    "$3x^{2}-2x+2-a\\cdot x^{2}-b\\cdot (x-1)-c\\cdot 1=0$     \n",
    "$(3-a)\\cdot x^{2}-(2+b)\\cdot x+(2-c+b)=0$  \n",
    "$\\begin{cases}3-a=0\\\\2+b=0\\\\2-c+b=0\\end{cases}$  \n",
    "Соответственно:  \n",
    "$a=3\\\\b=-2\\\\c=0$  \n",
    "Проверим:  \n",
    "$3\\cdot x^{2}+(-2)\\cdot(x-1)+0\\cdot 1=3x^{2}-2x+2+0=3x^{2}-2x+2$ получили наш исходный вектор,  \n",
    "$\\Rightarrow$ Координаты вектора $3x^{2}-2x+2$ в базисе $x^{2}$, $x-1$, $1$ : $(3,-2,0)$  "
   ]
  },
  {
   "cell_type": "markdown",
   "id": "18a413ac",
   "metadata": {},
   "source": [
    "__5.__ Установить, является ли линейным подпространством:  \n",
    "а) совокупность всех векторов трехмерного пространства, у которых по крайней мере одна из первых двух координат равна нулю;  \n",
    "б) все векторы, являющиеся линейными комбинациями данных векторов $\\{u_{1}, u_{2}, \\ldots, u_{n}\\}$. "
   ]
  },
  {
   "cell_type": "markdown",
   "id": "956918fb",
   "metadata": {},
   "source": [
    "а) Для проверки возьмем векторов вида: $(0,a,b)$, $(a,0,b)$, и $(0,0,a)$  \n",
    "$(0,a,b)+(0, c, d)=(0, a+c, b+d)\\\\\\alpha\\cdot (0, a,b)=(0,\\alpha a, \\alpha b)\\\\\\text{В результате так же получили вектор вида (0, a, b)}$  \n",
    "$(a,0,b)+(c, 0, d)=(a+c, 0, b+d)\\\\\\alpha\\cdot (a, 0,b)=(\\alpha a, 0, \\alpha b)\\\\\\text{В результате так же получили вектор вида (a,0,b)}$  \n",
    "$(0,0,a)+(0, 0, b)=(0, 0, a+b)\\\\\\alpha\\cdot (0, 0,a)=(0, 0, \\alpha a)\\\\\\text{В результате так же получили вектор вида (0,0,a)}$\n",
    "Следовательно совокупность векторов линейного пространства, у которых хотя бы одна из двух первых координат равна 0 **является** линейным подпространством.  "
   ]
  },
  {
   "cell_type": "markdown",
   "id": "4a11a9e4",
   "metadata": {},
   "source": [
    "б) Возьмем вектор $a=\\lambda_1\\cdot u_{1}+\\lambda_2\\cdot u_{2}+\\dots +\\lambda_n\\cdot u_{n}$ и вектор $b=\\mu_1\\cdot u_{1}+\\mu_2\\cdot u_{2}+\\dots +\\mu_n\\cdot u_{n}$  \n",
    "тогда $a+b=u_{1}\\cdot (\\lambda_{1}+\\mu_1)+u_{2}\\cdot (\\lambda_{2}+\\mu_2)+\\dots +u_n(\\lambda_{n}+\\mu_n)$,  \n",
    "a $\\alpha\\cdot a=\\alpha\\cdot\\lambda_1\\cdot u_{1}+\\alpha\\cdot\\lambda_2\\cdot u_{2}+\\dots +\\alpha\\cdot\\lambda_n\\cdot u_{n}=\\alpha\\cdot (\\lambda_1\\cdot u_{1}+\\lambda_2\\cdot u_{2}+\\dots +\\lambda_n\\cdot u_{n})\\Rightarrow$  \n",
    "все векторы, являющиеся линейными комбинациями векторов $\\{u_{1}, u_{2}, \\ldots, u_{n}\\}$ **являются** линейным подпространством.  \n"
   ]
  },
  {
   "cell_type": "markdown",
   "id": "feb85ebe",
   "metadata": {},
   "source": [
    "### Часть 2"
   ]
  },
  {
   "cell_type": "markdown",
   "id": "a57277db",
   "metadata": {},
   "source": [
    "__1.__ Найти скалярное произведение векторов $x, y \\in \\mathbb{R}$:  \n",
    "а) $x=(0,-3, 6), y=(-4, 7, 9)$;  \n",
    "б) $x=(7, -4, 0, 1), y=(-3, 1, 11, 2)$."
   ]
  },
  {
   "cell_type": "code",
   "execution_count": 1,
   "id": "586ad6e5",
   "metadata": {},
   "outputs": [],
   "source": [
    "import numpy as np"
   ]
  },
  {
   "cell_type": "code",
   "execution_count": 2,
   "id": "bf6ede80",
   "metadata": {},
   "outputs": [
    {
     "name": "stdout",
     "output_type": "stream",
     "text": [
      "Скалярное произведение векторов [ 0 -3  6] и [-4  7  9]: 33\n"
     ]
    }
   ],
   "source": [
    "x = np.array([0, -3, 6])\n",
    "y = np.array([-4, 7, 9])\n",
    "print(f'Скалярное произведение векторов {x} и {y}: {np.dot(x, y)}')"
   ]
  },
  {
   "cell_type": "code",
   "execution_count": 3,
   "id": "3f3770d1",
   "metadata": {},
   "outputs": [
    {
     "name": "stdout",
     "output_type": "stream",
     "text": [
      "Скалярное произведение векторов [ 7 -4  0  1] и [-3  1 11  2]: -23\n"
     ]
    }
   ],
   "source": [
    "x = np.array([7, -4, 0, 1])\n",
    "y = np.array([-3, 1, 11, 2])\n",
    "print(f'Скалярное произведение векторов {x} и {y}: {np.dot(x, y)}')"
   ]
  },
  {
   "cell_type": "markdown",
   "id": "a1cc24bc",
   "metadata": {},
   "source": [
    "__2.__ Найдите нормы векторов $(4, 2, 4)$ и $(12, 3, 4)$ и угол между ними."
   ]
  },
  {
   "cell_type": "markdown",
   "id": "d7aac192",
   "metadata": {},
   "source": [
    "**Манхеттенская** норма:  \n",
    "$\\left\\|x\\right\\|_{1} = \\sum_{i}|x_{i}|$;  \n",
    "\n",
    "**Евклидова** норма:  \n",
    "$\\left\\|x\\right\\|_{2} = \\sqrt{\\sum_{i}|x_{i}|^{2}}$.  \n",
    "\n",
    "Угол:  \n",
    "$cos\\varphi = \\frac{(x,y)}{\\left \\|x\\right \\|\\cdot\\left \\|y\\right \\|}$."
   ]
  },
  {
   "cell_type": "code",
   "execution_count": 4,
   "id": "3fb734c3",
   "metadata": {},
   "outputs": [],
   "source": [
    "from numpy.linalg import norm\n",
    "from math import acos"
   ]
  },
  {
   "cell_type": "code",
   "execution_count": 5,
   "id": "3cf68045",
   "metadata": {},
   "outputs": [
    {
     "name": "stdout",
     "output_type": "stream",
     "text": [
      "Манхэттенская норма вектора x=[4 2 4]: 10.0, евклидова норма вектора x=[4 2 4]: 6.0\n",
      "Манхэттенская норма вектора y=[12  3  4]: 19.0, евклидова норма вектора y=[12  3  4]: 13.0\n",
      "Угол между векторами x=[4 2 4] и y=[12  3  4]: 0.45687400353266105 радиан.\n"
     ]
    }
   ],
   "source": [
    "x = np.array([4, 2, 4])\n",
    "y = np.array([12, 3, 4])\n",
    "\n",
    "print(f'Манхэттенская норма вектора x={x}: {norm(x, ord=1)}, евклидова норма вектора x={x}: {norm(x, ord=2)}\\n'\n",
    "     f'Манхэттенская норма вектора y={y}: {norm(y, ord=1)}, евклидова норма вектора y={y}: {norm(y, ord=2)}\\n'\n",
    "     f'Угол между векторами x={x} и y={y}: {acos(np.dot(x, y)/(norm(x, ord=2)*norm(y, ord=2)))} радиан.')"
   ]
  },
  {
   "cell_type": "markdown",
   "id": "85aaaba3",
   "metadata": {},
   "source": [
    "__3.__ Определите, будет ли линейное пространство евклидовым, если за скалярное произведение принять:<br>\n",
    "а) произведение длин векторов;<br>\n",
    "б) утроенное обычное скалярное произведение векторов?<br>"
   ]
  },
  {
   "cell_type": "markdown",
   "id": "b8391200",
   "metadata": {},
   "source": [
    "a) Пусть $a=(x_a,y_a,z_a)$, $b=(x_b,y_b,z_b)$ и $c=(x_c,y_c,z_c)$ некие вектора.  \n",
    "по условию $<a,b>=|a|\\cdot |b|$  \n",
    "Проверим на соответствие аксиомам:  \n",
    "$<a,b>=<b,a>\\Rightarrow\\sqrt{x^2_{a}+y^2_{a}+z^2_{a}}\\cdot\\sqrt{x^2_{b}+y^2_{b}+z^2_{b}}=\\sqrt{x^2_{b}+y^2_{b}+z^2_{b}}\\cdot \\sqrt{x^2_{a}+y^2_{a}+z^2_{a}}$ - верно;  \n",
    "$<\\lambda\\cdot a,b>=\\lambda\\cdot<a,b> \\Rightarrow\\sqrt{\\lambda^2\\cdot x^2_{a}+\\lambda^2\\cdot y^2_{a}+\\lambda^2\\cdot z^2_{a}}\\cdot\\sqrt{x^2_{b}+y^2_{b}+z^2_{b}}=\\sqrt{\\lambda^2\\cdot(x^2_{a}+y^2_{a}+z^2_{a})}\\cdot\\sqrt{x^2_{b}+y^2_{b}+z^2_{b}}= \\lambda\\cdot\\sqrt{x^2_{a}+y^2_{a}+z^2_{a}}\\cdot\\sqrt{x^2_{b}+y^2_{b}+z^2_{b}}$-верно;    \n",
    "$<a+b,c>=<a,c>+<b,c>\\Rightarrow\\sqrt{(x_{a}+x_{b})^{2}+(y_{a}+y_{b})^{2}+(z_{a}+z_{b})^2}\\cdot\\sqrt{x^2_{c}+y^2_{c}+z^2_{c}}\\neq\\sqrt{x^2_{a}+y^2_{a}+z^2_{a}}\\cdot\\sqrt{x^2_{c}+y^2_{c}+z^2_{c}}+\\sqrt{x^2_{b}+y^2_{b}+z^2_{b}}\\cdot\\sqrt{x^2_{c}+y^2_{c}+z^2_{c}}$  \n",
    "Третья аксиома не выполнена, линейное пространство  **не будет** евклидовым.  "
   ]
  },
  {
   "cell_type": "markdown",
   "id": "85106dfa",
   "metadata": {},
   "source": [
    "б) по условию $<a,b>=3\\cdot <a,b>$ поскольку в евклидовом пространстве скалярное произведение векторов подчиняется 4-м вышеперичисленным аксиомам, то и утроенное скалярное произведение будет подчиняться этим аксиомам, линейное пространство  **будет** евклидовым."
   ]
  },
  {
   "cell_type": "markdown",
   "id": "51418419",
   "metadata": {},
   "source": [
    "__4.__ Выясните, какие из нижеперечисленных векторов образуют ортонормированный базис в линейном пространстве $\\mathbb{R}^{3}$:<br>\n",
    "а) $(1,0,0),(0,0,1);$ <br>\n",
    "б) $(1/\\sqrt{2},-1/\\sqrt{2},0),(1/\\sqrt{2},1/\\sqrt{2},0), (0,0,1);$<br>\n",
    "в) $(1/2, -1/2, 0), (0, 1/2, 1/2), (0,0,1);$<br>\n",
    "г) $(1,0,0),(0,1,0),(0,0,1)?$ \n"
   ]
  },
  {
   "cell_type": "markdown",
   "id": "6d1fb2f5",
   "metadata": {},
   "source": [
    "В конечномерном евклидовом пространстве базис $\\{e_{1},e_{2},...,e_{n}\\}$ называется ортонормированным, если  \n",
    "$(e_{i}, e_{j})=0$ $\\forall$ $i\\neq j$ и $(e_{i},e_{i})=1$ $\\forall$ $i\\in[1, n]$."
   ]
  },
  {
   "cell_type": "markdown",
   "id": "227c24e3",
   "metadata": {},
   "source": [
    "а) имеем 2 вектора, что недостаточно для создания базиса в пространстве $\\mathbb{R}^{3}$  "
   ]
  },
  {
   "cell_type": "markdown",
   "id": "bbfd956a",
   "metadata": {},
   "source": [
    "б) проверим на ортогональность:"
   ]
  },
  {
   "cell_type": "code",
   "execution_count": 6,
   "id": "d9b3dd75",
   "metadata": {},
   "outputs": [
    {
     "name": "stdout",
     "output_type": "stream",
     "text": [
      "<a,b>=0.0\n",
      "<a,c>=0.0\n",
      "<b,c>=0.0\n"
     ]
    }
   ],
   "source": [
    "a=np.array([1/np.sqrt(2), -1/np.sqrt(2),0])\n",
    "b=np.array([1/np.sqrt(2), 1/np.sqrt(2),0])\n",
    "c=np.array([0, 0, 1])\n",
    "print(f'<a,b>={a@b}\\n<a,c>={a@c}\\n<b,c>={b@c}')"
   ]
  },
  {
   "cell_type": "markdown",
   "id": "4ca00e03",
   "metadata": {},
   "source": [
    "Векторы ортогональны.\n",
    "\n",
    "Проверим на нормированность:"
   ]
  },
  {
   "cell_type": "code",
   "execution_count": 7,
   "id": "033ed772",
   "metadata": {},
   "outputs": [
    {
     "name": "stdout",
     "output_type": "stream",
     "text": [
      "<a,a>=0.9999999999999998\n",
      "<b,b>=0.9999999999999998\n",
      "<c,c>=1\n"
     ]
    }
   ],
   "source": [
    "print(f'<a,a>={a@a}\\n<b,b>={b@b}\\n<c,c>={c@c}')"
   ]
  },
  {
   "cell_type": "markdown",
   "id": "dde32aca",
   "metadata": {},
   "source": [
    "Условие ортонормированности **не выполнено**. Векторы не образуют ортонормированный базис в линейном пространстве $\\mathbb{R}^{3}$"
   ]
  },
  {
   "cell_type": "markdown",
   "id": "f92f9a96",
   "metadata": {},
   "source": [
    "в) проверим на ортогональность:"
   ]
  },
  {
   "cell_type": "code",
   "execution_count": 8,
   "id": "7f2a2d70",
   "metadata": {},
   "outputs": [
    {
     "name": "stdout",
     "output_type": "stream",
     "text": [
      "<a,b>=0.0\n",
      "<a,c>=0.0\n",
      "<b,c>=0.0\n"
     ]
    }
   ],
   "source": [
    "a=np.array([1/2, -1/2,0])\n",
    "b=np.array([1/2, 1/2,0])\n",
    "c=np.array([0, 0, 1])\n",
    "print(f'<a,b>={a@b}\\n<a,c>={a@c}\\n<b,c>={b@c}')"
   ]
  },
  {
   "cell_type": "markdown",
   "id": "a2112515",
   "metadata": {},
   "source": [
    "Векторы ортогональны.\n",
    "\n",
    "Проверим на нормированность:"
   ]
  },
  {
   "cell_type": "code",
   "execution_count": 9,
   "id": "83166e2a",
   "metadata": {},
   "outputs": [
    {
     "name": "stdout",
     "output_type": "stream",
     "text": [
      "<a,a>=0.5\n",
      "<b,b>=0.5\n",
      "<c,c>=1\n"
     ]
    }
   ],
   "source": [
    "print(f'<a,a>={a@a}\\n<b,b>={b@b}\\n<c,c>={c@c}')"
   ]
  },
  {
   "cell_type": "markdown",
   "id": "42469c33",
   "metadata": {},
   "source": [
    "Условие ортонормированности **не выполнено**. Векторы не образуют ортонормированный базис в линейном пространстве $\\mathbb{R}^{3}$"
   ]
  },
  {
   "cell_type": "markdown",
   "id": "b6fb4fc3",
   "metadata": {},
   "source": [
    "г) проверим на ортогональность:"
   ]
  },
  {
   "cell_type": "code",
   "execution_count": 10,
   "id": "e18eb3be",
   "metadata": {},
   "outputs": [
    {
     "name": "stdout",
     "output_type": "stream",
     "text": [
      "<a,b>=0\n",
      "<a,c>=0\n",
      "<b,c>=0\n"
     ]
    }
   ],
   "source": [
    "a=np.array([1, 0,0])\n",
    "b=np.array([0, 1,0])\n",
    "c=np.array([0, 0, 1])\n",
    "print(f'<a,b>={a@b}\\n<a,c>={a@c}\\n<b,c>={b@c}')"
   ]
  },
  {
   "cell_type": "markdown",
   "id": "09047982",
   "metadata": {},
   "source": [
    "Векторы ортогональны.\n",
    "\n",
    "Проверим на нормированность:"
   ]
  },
  {
   "cell_type": "code",
   "execution_count": 11,
   "id": "777968d6",
   "metadata": {},
   "outputs": [
    {
     "name": "stdout",
     "output_type": "stream",
     "text": [
      "<a,a>=1\n",
      "<b,b>=1\n",
      "<c,c>=1\n"
     ]
    }
   ],
   "source": [
    "print(f'<a,a>={a@a}\\n<b,b>={b@b}\\n<c,c>={c@c}')"
   ]
  },
  {
   "cell_type": "markdown",
   "id": "b111763b",
   "metadata": {},
   "source": [
    "Условие ортонормированности **выполнено**. Векторы образуют ортонормированный базис в линейном пространстве $\\mathbb{R}^{3}$"
   ]
  }
 ],
 "metadata": {
  "kernelspec": {
   "display_name": "Python 3 (ipykernel)",
   "language": "python",
   "name": "python3"
  },
  "language_info": {
   "codemirror_mode": {
    "name": "ipython",
    "version": 3
   },
   "file_extension": ".py",
   "mimetype": "text/x-python",
   "name": "python",
   "nbconvert_exporter": "python",
   "pygments_lexer": "ipython3",
   "version": "3.10.2"
  }
 },
 "nbformat": 4,
 "nbformat_minor": 5
}
