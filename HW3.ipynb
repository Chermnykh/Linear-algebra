{
 "cells": [
  {
   "cell_type": "markdown",
   "id": "bf03d390",
   "metadata": {},
   "source": [
    "# Линейная алгебра\n",
    "\n",
    "## Урок 3. Линейные преобразования"
   ]
  },
  {
   "cell_type": "markdown",
   "id": "1e3ef029",
   "metadata": {},
   "source": [
    "__1.__ Найдите собственные векторы и собственные значения для линейного оператора, заданного матрицей:\n",
    "\n",
    "$$A=\\begin{pmatrix}\n",
    "-1 & -6\\\\ \n",
    "2 & 6\n",
    "\\end{pmatrix}.$$"
   ]
  },
  {
   "cell_type": "markdown",
   "id": "de66b18e",
   "metadata": {},
   "source": [
    "Найдем собственные значения:\n",
    "\n",
    "$\\begin{vmatrix}\n",
    "-1-\\lambda & -6\\\\ \n",
    "2 & 6-\\lambda\n",
    "\\end{vmatrix} = 0,$\n",
    "\n",
    "\n",
    "$(-1-\\lambda)(6-\\lambda)+6\\cdot2=0,$    \n",
    "\n",
    "$-6-6\\lambda+\\lambda+\\lambda^{2}+12=0,$\n",
    "\n",
    "$-6-6\\lambda+\\lambda+\\lambda^{2}+12=0,$           \n",
    "\n",
    "$\\lambda^{2}-5\\lambda+6=0$\n",
    "\n",
    "$D=5^{2}-4\\cdot 1\\cdot 6=25-24=1; \\sqrt D=1$                        \n",
    "$\\lambda_1=\\frac{-(-5)-1}{2\\cdot 1}=2$                               \n",
    "$\\lambda_2=\\frac{-(-5)+1}{2\\cdot 1}=3$"
   ]
  },
  {
   "cell_type": "markdown",
   "id": "2f780a63",
   "metadata": {},
   "source": [
    "Найдем собственные вектора вида $\\begin{pmatrix}x\\\\ y\\end{pmatrix}$:\n",
    "\n",
    "а) $\\lambda=\\lambda_1=2\\\\\n",
    "\\begin{pmatrix}\n",
    "-1 & -6\\\\ \n",
    "2 & 6\n",
    "\\end{pmatrix}\\cdot \\begin{pmatrix}x\\\\ y\\end{pmatrix}=\\lambda\\cdot \\begin{pmatrix}x\\\\ y\\end{pmatrix}\\\\\n",
    "\\begin{pmatrix}\n",
    "-x-6y\\\\ \n",
    "2x+6y\n",
    "\\end{pmatrix}=\\begin{pmatrix}2x\\\\ 2y\\end{pmatrix}\\\\\n",
    "\\begin{cases}-3x-6y=0\\\\2x+4y=0\\end{cases}\\\\\n",
    "x=-2y$  \n",
    "\n",
    "Получили бесконечное множество коллинеарных векторов.\n",
    "\n",
    "Найдем 1 частное решение:  \n",
    "\n",
    "Пусть $y=-1$, тогда $x=2$  \n",
    "\n",
    "Проверим:  \n",
    "\n",
    "$\\begin{cases}-3\\cdot 2-6\\cdot (-1)=0\\\\2\\cdot 2+4\\cdot (-1)=0\\end{cases}$ верно.\n",
    "\n",
    "$\\bar{u_1}=\\begin{pmatrix}2\\\\ -1\\end{pmatrix}$  \n",
    "\n",
    "\n",
    "б) $\\lambda=\\lambda_2=3\\\\\n",
    "\\begin{pmatrix}\n",
    "-1 & -6\\\\ \n",
    "2 & 6\n",
    "\\end{pmatrix}\\cdot \\begin{pmatrix}x\\\\ y\\end{pmatrix}=\\lambda\\cdot \\begin{pmatrix}x\\\\ y\\end{pmatrix}\\\\\n",
    "\\begin{pmatrix}\n",
    "-x-6y\\\\ \n",
    "2x+6y\n",
    "\\end{pmatrix}=\\begin{pmatrix}3x\\\\ 3y\\end{pmatrix}\\\\\n",
    "\\begin{cases}-4x-6y=0\\\\2x+3y=0\\end{cases}\\\\\n",
    "x=-\\frac{3}{2}y$  \n",
    "\n",
    "Получили бесконечное множество коллинеарных векторов.\n",
    "\n",
    "Найдем 1 частное решение:  \n",
    "\n",
    "Пусть $y=-2$, тогда $x=3$  \n",
    "\n",
    "Проверим:  \n",
    "\n",
    "$\\begin{cases}-4\\cdot 3-6\\cdot (-2)=0\\\\2\\cdot 3+3\\cdot (-2)=0\\end{cases}$ верно.\n",
    "\n",
    "$\\bar{u_2}=\\begin{pmatrix}3\\\\ -2\\end{pmatrix}$  "
   ]
  },
  {
   "cell_type": "markdown",
   "id": "452894e3",
   "metadata": {},
   "source": [
    "__2.__ Дан оператор поворота на 180 градусов, задаваемый матрицей:\n",
    "\n",
    "$$A=\\begin{pmatrix}\n",
    "-1 & 0\\\\ \n",
    "0 & -1\n",
    "\\end{pmatrix}.$$\n",
    "\n",
    "Покажите, что __любой__ вектор считается для него собственным."
   ]
  },
  {
   "cell_type": "markdown",
   "id": "ff12ad27",
   "metadata": {},
   "source": [
    "$\\begin{pmatrix}\n",
    "-1 & 0\\\\ \n",
    "0 & -1\n",
    "\\end{pmatrix}\\cdot \\begin{pmatrix}x\\\\ y\\end{pmatrix}=\\lambda\\cdot \\begin{pmatrix}x\\\\ y\\end{pmatrix}$\n",
    "$\n",
    "\\begin{pmatrix}\n",
    "-x\\\\ \n",
    "-y\n",
    "\\end{pmatrix}=\\begin{pmatrix}\\lambda x\\\\ \\lambda y\\end{pmatrix}\\\\\n",
    "\\begin{cases}-x=\\lambda x\\\\-y=\\lambda y\\end{cases}\\\\\n",
    "\\lambda=-1$  \n",
    "\n",
    "Решение не зависит от значений $x$ и $y$, следовательно для оператора поворота **любой** вектор является собственным."
   ]
  },
  {
   "cell_type": "markdown",
   "id": "9a6bb0e5",
   "metadata": {},
   "source": [
    "__3.__ Пусть линейный оператор задан матрицей:\n",
    "\n",
    "$$A=\\begin{pmatrix}\n",
    "1 & 1\\\\ \n",
    "-1 & 3\n",
    "\\end{pmatrix}.$$\n",
    "\n",
    "Установите, считается ли вектор $x=(1,1)$ собственным вектором этого линейного оператора."
   ]
  },
  {
   "cell_type": "markdown",
   "id": "a4c43f42",
   "metadata": {},
   "source": [
    "Предположим, что $x=(1,1)$ является собственным вектором оператора $A$, тогда:  \n",
    "    \n",
    "$\\begin{pmatrix}\n",
    "1 & 1\\\\ \n",
    "-1 & 3\n",
    "\\end{pmatrix}\\cdot\\begin{pmatrix}1\\\\1\\end{pmatrix}=\\lambda\\cdot\\begin{pmatrix}1\\\\1\\end{pmatrix} \\Rightarrow$  \n",
    "\n",
    "$\\begin{cases}1+1=\\lambda \\\\\n",
    "-1+3=\\lambda \\end{cases}\\\\\\Rightarrow \\lambda=2$  \n",
    "\n",
    "Вектор $x=(1,1)$ **является** собственным вектором оператора $A=\\begin{pmatrix}\n",
    "1 & 1\\\\ \n",
    "-1 & 3\n",
    "\\end{pmatrix}$, с собственным значением $\\lambda = 2$.  "
   ]
  },
  {
   "cell_type": "markdown",
   "id": "a86cb0d2",
   "metadata": {},
   "source": [
    "**4.** Пусть линейный оператор задан матрицей:\n",
    "\n",
    "$$A=\\begin{pmatrix} 0 & 3 & 0\\\\ 3 & 0 & 0\\\\ 0 & 0 & 3 \\end{pmatrix}.$$\n",
    "\n",
    "Установите, считается ли вектор $x=(3, -3, -4)$ собственным вектором этого линейного оператора."
   ]
  },
  {
   "cell_type": "markdown",
   "id": "fb5e26d3",
   "metadata": {},
   "source": [
    "Предположим что вектор $x$ собственный вектор оператора $A$, тогда:  \n",
    "    \n",
    "$\\begin{pmatrix}\n",
    "0 & 3 & 0\\\\ \n",
    "3 & 0 & 0\\\\\n",
    "0 & 0 & 3\n",
    "\\end{pmatrix}\\cdot \\begin{pmatrix}3\\\\-3\\\\-4\\end{pmatrix}=\\lambda \\cdot\\begin{pmatrix}3\\\\-3\\\\-4\\end{pmatrix}\\Rightarrow\\\\\n",
    "\\begin{cases}-9=3\\lambda\\\\9=-3\\lambda\\\\-12=-4\\lambda\\end{cases}\\Rightarrow\\\\\n",
    "\\begin{cases}\\lambda=-3\\\\\\lambda=-3\\\\\\lambda=3\\end{cases}$  \n",
    "Такая система не имеет смысла, следовательно, вектор $x=(3, -3, -4)$ **не является** собственным вектором линейного оператора, заданного матрицей $A$."
   ]
  }
 ],
 "metadata": {
  "kernelspec": {
   "display_name": "Python 3 (ipykernel)",
   "language": "python",
   "name": "python3"
  },
  "language_info": {
   "codemirror_mode": {
    "name": "ipython",
    "version": 3
   },
   "file_extension": ".py",
   "mimetype": "text/x-python",
   "name": "python",
   "nbconvert_exporter": "python",
   "pygments_lexer": "ipython3",
   "version": "3.10.2"
  }
 },
 "nbformat": 4,
 "nbformat_minor": 5
}
